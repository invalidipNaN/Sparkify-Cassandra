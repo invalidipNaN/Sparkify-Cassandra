{
 "cells": [
  {
   "cell_type": "markdown",
   "metadata": {
    "editable": true
   },
   "source": [
    "# Part I. ETL Pipeline for Pre-Processing the Files"
   ]
  },
  {
   "cell_type": "markdown",
   "metadata": {
    "editable": true
   },
   "source": [
    "#### Import Python packages "
   ]
  },
  {
   "cell_type": "code",
   "execution_count": 2,
   "metadata": {
    "editable": true
   },
   "outputs": [],
   "source": [
    "import pandas as pd\n",
    "import cassandra\n",
    "import re\n",
    "import os\n",
    "import glob\n",
    "import numpy as np\n",
    "import json\n",
    "import csv\n",
    "from prettytable import PrettyTable"
   ]
  },
  {
   "cell_type": "markdown",
   "metadata": {
    "editable": true
   },
   "source": [
    "#### Creating list of filepaths to process original event csv data files"
   ]
  },
  {
   "cell_type": "code",
   "execution_count": 3,
   "metadata": {
    "editable": true
   },
   "outputs": [
    {
     "name": "stdout",
     "output_type": "stream",
     "text": [
      "/home/workspace\n"
     ]
    }
   ],
   "source": [
    "# checking the current working directory\n",
    "print(os.getcwd())\n",
    "\n",
    "# Get the current folder and subfolder event data\n",
    "filepath = os.getcwd() + '/event_data'\n",
    "\n",
    "# Create a for loop to create a list of files and collect each filepath\n",
    "for root, dirs, files in os.walk(filepath):\n",
    "    \n",
    "# join the file path and roots with the subdirectories using glob\n",
    "    file_path_list = glob.glob(os.path.join(root,'*'))"
   ]
  },
  {
   "cell_type": "markdown",
   "metadata": {
    "editable": true
   },
   "source": [
    "#### Processing the files to create the data file csv that will be used for Apache Casssandra tables"
   ]
  },
  {
   "cell_type": "code",
   "execution_count": 4,
   "metadata": {
    "editable": true
   },
   "outputs": [],
   "source": [
    "# initiating an empty list of rows that will be generated from each file\n",
    "full_data_rows_list = [] \n",
    "# uncomment the code below if you would like to get the total number of files in the file_path_list \n",
    "# print(\"There are: \" + str(len(file_path_list)) + \" files in the file_path_list\")    \n",
    "# for every filepath in the file path list \n",
    "for f in file_path_list:\n",
    "\n",
    "# reading csv file \n",
    "    with open(f, 'r', encoding = 'utf8', newline='') as csvfile: \n",
    "        # creating a csv reader object \n",
    "        csvreader = csv.reader(csvfile) \n",
    "        next(csvreader)\n",
    "        \n",
    " # extracting each data row one by one and append it        \n",
    "        for line in csvreader:\n",
    "            full_data_rows_list.append(line) \n",
    "            \n",
    "# uncomment the code below if you would like to get total number of rows \n",
    "#print(len(full_data_rows_list))\n",
    "# uncomment the code below if you would like to see what the list of event data rows will look like\n",
    "#print(full_data_rows_list)\n",
    "\n",
    "# creating a smaller event data csv file called event_datafile_full csv that will be used to insert data into the \\\n",
    "# Apache Cassandra tables\n",
    "csv.register_dialect('myDialect', quoting=csv.QUOTE_ALL, skipinitialspace=True)\n",
    "\n",
    "with open('event_datafile_new.csv', 'w', encoding = 'utf8', newline='') as f:\n",
    "    writer = csv.writer(f, dialect='myDialect')\n",
    "    writer.writerow(['artist','firstName','gender','itemInSession','lastName','length',\\\n",
    "                'level','location','sessionId','song','userId'])\n",
    "    for row in full_data_rows_list:\n",
    "        if (row[0] == ''):\n",
    "            continue\n",
    "        writer.writerow((row[0], row[2], row[3], row[4], row[5], row[6], row[7], row[8], row[12], row[13], row[16]))"
   ]
  },
  {
   "cell_type": "code",
   "execution_count": 5,
   "metadata": {
    "editable": true
   },
   "outputs": [
    {
     "name": "stdout",
     "output_type": "stream",
     "text": [
      "733\n"
     ]
    }
   ],
   "source": [
    "# check the number of rows in your csv file\n",
    "with open('event_datafile_new.csv', 'r', encoding = 'utf8') as f:\n",
    "    print(sum(1 for line in f))"
   ]
  },
  {
   "cell_type": "markdown",
   "metadata": {
    "editable": true
   },
   "source": [
    "# Part II. The Apache Cassandra part "
   ]
  },
  {
   "cell_type": "markdown",
   "metadata": {
    "editable": true
   },
   "source": [
    "#### Creating a Cluster"
   ]
  },
  {
   "cell_type": "code",
   "execution_count": 7,
   "metadata": {
    "editable": true
   },
   "outputs": [],
   "source": [
    "# This should make a connection to a Cassandra instance on the local machine \n",
    "# (127.0.0.1)\n",
    "\n",
    "from cassandra.cluster import Cluster\n",
    "cluster = Cluster()\n",
    "\n",
    "# To establish connection and begin executing queries, need a session\n",
    "session = cluster.connect()"
   ]
  },
  {
   "cell_type": "code",
   "execution_count": 8,
   "metadata": {
    "editable": true
   },
   "outputs": [],
   "source": [
    "#### Create Keyspace"
   ]
  },
  {
   "cell_type": "code",
   "execution_count": 11,
   "metadata": {
    "editable": true
   },
   "outputs": [],
   "source": [
    "try:\n",
    "    session.execute(\"\"\"\n",
    "    CREATE KEYSPACE IF NOT EXISTS sparkify\n",
    "    WITH REPLICATION = {'class' : 'SimpleStrategy', 'replication_factor' : 1 } \n",
    "    \"\"\")\n",
    "except Exception as e:\n",
    "    print(e)"
   ]
  },
  {
   "cell_type": "markdown",
   "metadata": {
    "editable": true
   },
   "source": [
    "#### Set Keyspace"
   ]
  },
  {
   "cell_type": "code",
   "execution_count": 12,
   "metadata": {
    "editable": true
   },
   "outputs": [],
   "source": [
    "try:\n",
    "    session.set_keyspace(\"sparkify\")\n",
    "except Exception as e:\n",
    "    print(e)"
   ]
  },
  {
   "cell_type": "markdown",
   "metadata": {
    "editable": true
   },
   "source": [
    "### Creating tables to run the following queries. \n",
    "#### Since with Apache Cassandra we model the database tables on the queries we want to run."
   ]
  },
  {
   "cell_type": "code",
   "execution_count": 14,
   "metadata": {
    "editable": true
   },
   "outputs": [],
   "source": [
    "query_song_by_session_details = \"\"\"CREATE TABLE IF NOT EXISTS song_by_session_details \n",
    "(session_id int,\n",
    "item_in_session int,\n",
    "artist text,\n",
    "length float,\n",
    "song text,\n",
    "PRIMARY KEY((session_id,item_in_session)))\"\"\"\n",
    "\n",
    "try:\n",
    "    session.execute(query_song_by_session_details)\n",
    "except Exception as e:\n",
    "    print(e)     "
   ]
  },
  {
   "cell_type": "code",
   "execution_count": 15,
   "metadata": {
    "editable": true
   },
   "outputs": [],
   "source": [
    "file = 'event_datafile_new.csv'\n",
    "\n",
    "with open(file, encoding = 'utf8') as f:\n",
    "    csvreader = csv.reader(f)\n",
    "    next(csvreader) # skip header\n",
    "    for line in csvreader:\n",
    "        query = \"INSERT INTO song_by_session_details(session_id, item_in_session, artist, length, song)\"\n",
    "        query += \"VALUES(%s, %s, %s, %s, %s)\"\n",
    "        # We cast the values in order to meet the table data types\n",
    "        inputTuple = ((line[0], int(line[3]), float(line[5]), int(line[8]), line[9]))\n",
    "        inputTuple = ((int(line[8]), int(line[3]), line[0], float(line[5]), line[9]))\n",
    "        try:\n",
    "            session.execute(query, inputTuple)\n",
    "        except Exception as e:\n",
    "            print(e)"
   ]
  },
  {
   "cell_type": "markdown",
   "metadata": {
    "editable": true
   },
   "source": [
    "#### Do a SELECT to verify that the data have been inserted into each table"
   ]
  },
  {
   "cell_type": "code",
   "execution_count": 17,
   "metadata": {
    "editable": true
   },
   "outputs": [
    {
     "name": "stdout",
     "output_type": "stream",
     "text": [
      "+------------------------------+-------------------------------------------------------------------------+--------+\n",
      "|            Artist            |                                   Song                                  | Length |\n",
      "+------------------------------+-------------------------------------------------------------------------+--------+\n",
      "|          Mad Flava           |                    Wax on Tha Belt (Baby G Gets Biz)                    | 35.81  |\n",
      "|          Blink-182           |                               Feeling This                              | 173.77 |\n",
      "|         Amon Amarth          |                          North Sea Storm (Live)                         | 312.29 |\n",
      "|           Pavement           |                           Mercy:The Laundromat                          | 99.16  |\n",
      "|         Gare du Nord         |                              Marvin & Miles                             | 221.99 |\n",
      "|        Postal Service        |                          Natural Anthem (Album)                         | 307.54 |\n",
      "|       City And Colour        |                             What Makes A Man                            | 208.43 |\n",
      "| Kiss the Anus of a Black Cat | Prelude (\"The World is In Fear Again and It Has All Been Manufactured\") | 151.98 |\n",
      "|          Joan Baez           |                        Don't Cry For Me Argentina                       | 193.18 |\n",
      "|          Velour 100          |                  Clouds (Of Color Bright Album Version)                 | 202.29 |\n",
      "+------------------------------+-------------------------------------------------------------------------+--------+\n"
     ]
    }
   ],
   "source": [
    "query_select_song_by_session_details = \"SELECT artist, song, length FROM song_by_session_details LIMIT 10\"\n",
    "\n",
    "try:\n",
    "    rows = session.execute(query_select_song_by_session_details)\n",
    "except Exception as e:\n",
    "    print(e)\n",
    "\n",
    "# Using PrettyTable to display the results\n",
    "# Header\n",
    "t = PrettyTable(['Artist', 'Song', 'Length'])\n",
    "# Rows\n",
    "for row in rows:\n",
    "    t.add_row([row.artist, row.song, str(round(row.length,2))])\n",
    "    \n",
    "print(t)"
   ]
  },
  {
   "cell_type": "code",
   "execution_count": 18,
   "metadata": {
    "editable": true
   },
   "outputs": [],
   "source": [
    "query_song_playlist_by_session = \"\"\"CREATE TABLE IF NOT EXISTS song_playlist_by_session\n",
    "(user_id int,\n",
    "session_id int,\n",
    "item_in_session int,\n",
    "artist text,\n",
    "firstname text,\n",
    "lastname text,\n",
    "song text,\n",
    "PRIMARY KEY((user_id, session_id), item_in_session))\n",
    "\"\"\"\n",
    "\n",
    "try:\n",
    "    session.execute(query_song_playlist_by_session)\n",
    "except Exception as e:\n",
    "    print(e)"
   ]
  },
  {
   "cell_type": "code",
   "execution_count": 19,
   "metadata": {
    "editable": true
   },
   "outputs": [],
   "source": [
    "query_user_name_by_song = \"\"\"CREATE TABLE IF NOT EXISTS user_name_by_song\n",
    "(song text,\n",
    "artist text,\n",
    "user_id int,\n",
    "firstname text,\n",
    "lastname text,\n",
    "PRIMARY KEY((song, artist, user_id)))\"\"\"\n",
    "\n",
    "try:\n",
    "    session.execute(query_user_name_by_song)\n",
    "except Exception as e:\n",
    "    print(e)"
   ]
  },
  {
   "cell_type": "code",
   "execution_count": 20,
   "metadata": {
    "editable": true
   },
   "outputs": [],
   "source": [
    "with open(file, encoding = 'utf8') as f:\n",
    "    csvreader = csv.reader(f)\n",
    "    next(csvreader) # skip header\n",
    "    for line in csvreader:\n",
    "        # Insert values\n",
    "        query2 = \"INSERT INTO song_playlist_by_session(user_id, session_id, item_in_session, artist, firstname, lastname, song)\"\n",
    "        query2 += \"VALUES(%s, %s, %s, %s, %s, %s, %s)\"\n",
    "        query3 = \"INSERT INTO user_name_by_song(song, artist, user_id, firstname, lastname)\"\n",
    "        query3 += \"VALUES(%s, %s, %s, %s, %s)\"\n",
    "        q2inputTuple = (int(line[10]), int(line[8]), int(line[3]), line[0], line[1], line[4], line[9])\n",
    "        q3inputTuple = (line[9], line[0], int(line[10]), line[1], line[4])\n",
    "        \n",
    "        try:\n",
    "            session.execute(query2, q2inputTuple)\n",
    "        except Exception as e:\n",
    "            print(e)\n",
    "        try:\n",
    "            session.execute(query3, q3inputTuple)\n",
    "        except Exception as e:\n",
    "            print(e)     "
   ]
  },
  {
   "cell_type": "code",
   "execution_count": 21,
   "metadata": {
    "editable": true
   },
   "outputs": [
    {
     "name": "stdout",
     "output_type": "stream",
     "text": [
      "-------------------- Song playslist by Session --------------------\n",
      "+-------------------+------------+-----------+------------------------------------------------------+\n",
      "|       Artist      | First name | Last name |                         Song                         |\n",
      "+-------------------+------------+-----------+------------------------------------------------------+\n",
      "|   Lonnie Gordon   |   Sylvie   |    Cruz   | Catch You Baby (Steve Pitron & Max Sanna Radio Edit) |\n",
      "| Sebastien Tellier |   Sylvie   |    Cruz   |                      Kilometer                       |\n",
      "|    Three Drives   |   Sylvie   |    Cruz   |                     Greece 2000                      |\n",
      "|  Down To The Bone |   Sylvie   |    Cruz   |                  Keep On Keepin' On                  |\n",
      "+-------------------+------------+-----------+------------------------------------------------------+\n",
      "-------------------- User name by song --------------------\n",
      "+------------+-----------+------------------+\n",
      "| First name | Last name |       Song       |\n",
      "+------------+-----------+------------------+\n",
      "|   Tegan    |   Levine  | Hey_ Soul Sister |\n",
      "|   Harper   |  Barrett  | Hey_ Soul Sister |\n",
      "+------------+-----------+------------------+\n"
     ]
    }
   ],
   "source": [
    "print(\"-------------------- Song playslist by Session --------------------\")\n",
    "query_song_playlist_by_session = \"\"\"SELECT artist, firstname, lastname, song FROM song_playlist_by_session \n",
    "WHERE user_id = 10 AND session_id = 182\n",
    "ORDER BY item_in_session DESC \n",
    "LIMIT 10\"\"\"\n",
    "\n",
    "try:\n",
    "    rows = session.execute(query_song_playlist_by_session)\n",
    "except Exception as e:\n",
    "    print(e)\n",
    "    \n",
    "# Using PrettyTable to display the results\n",
    "# Header   \n",
    "t = PrettyTable(['Artist', 'First name', 'Last name', 'Song'])\n",
    "# Rows\n",
    "for row in rows:\n",
    "    t.add_row([row.artist, row.firstname, row.lastname, row.song])\n",
    "    \n",
    "print(t)\n",
    "\n",
    "print(\"-------------------- User name by song --------------------\")\n",
    "\n",
    "# Here we use ALLOW FILTERING since we really want all the user names by song\n",
    "# While the primary key involves the (song, artist, user_id) in order to have unique rows\n",
    "query_select_user_name_by_song = \"\"\"SELECT firstname, lastname, song FROM user_name_by_song\n",
    "WHERE song = 'Hey_ Soul Sister' \n",
    "LIMIT 100 ALLOW FILTERING\"\"\"\n",
    "\n",
    "try:\n",
    "    rows = session.execute(query_select_user_name_by_song)\n",
    "except Exception as e:\n",
    "    print(e)\n",
    "    \n",
    "# Using PrettyTable to display the results\n",
    "# Header   \n",
    "t = PrettyTable(['First name', 'Last name', 'Song'])\n",
    "# Rows\n",
    "for row in rows:\n",
    "    t.add_row([row.firstname, row.lastname, row.song])\n",
    "\n",
    "print(t)"
   ]
  },
  {
   "cell_type": "markdown",
   "metadata": {
    "editable": true
   },
   "source": [
    "### Drop the tables before closing out the sessions"
   ]
  },
  {
   "cell_type": "code",
   "execution_count": null,
   "metadata": {
    "editable": true
   },
   "outputs": [],
   "source": [
    "# convenient function for table removal \n",
    "def drop_table_query(table_name):\n",
    "    return \"DROP TABLE IF EXISTS sparkify.\"+str(table_name);\n",
    "\n",
    "# list of the table names\n",
    "table_names = [\"song_by_session_details\", \"song_playlist_by_session\", \"user_name_by_song \"]\n",
    "drops = [drop_table_query(table_name) for table_name in table_names]\n",
    "\n",
    "for drop in drops: \n",
    "    try:\n",
    "        session.execute(drop)\n",
    "    except Exception as e:\n",
    "        print(e)\n",
    "        \n",
    "# uncomment the code below if you would like to remove the entire keyspace\n",
    "# drop_key_space = \"DROP KEYSPACE IF EXISTS sparkify\"\n",
    "\n",
    "# try:\n",
    "#     session.execute(drop_key_space)\n",
    "# except Exception as e:\n",
    "#     print(e)"
   ]
  },
  {
   "cell_type": "markdown",
   "metadata": {
    "editable": true
   },
   "source": [
    "### Close the session and cluster connection"
   ]
  },
  {
   "cell_type": "code",
   "execution_count": 24,
   "metadata": {
    "editable": true
   },
   "outputs": [],
   "source": [
    "session.shutdown()\n",
    "cluster.shutdown()"
   ]
  }
 ],
 "metadata": {
  "kernelspec": {
   "display_name": "Python 3",
   "language": "python",
   "name": "python3"
  },
  "language_info": {
   "codemirror_mode": {
    "name": "ipython",
    "version": 3
   },
   "file_extension": ".py",
   "mimetype": "text/x-python",
   "name": "python",
   "nbconvert_exporter": "python",
   "pygments_lexer": "ipython3",
   "version": "3.6.3"
  }
 },
 "nbformat": 4,
 "nbformat_minor": 4
}
